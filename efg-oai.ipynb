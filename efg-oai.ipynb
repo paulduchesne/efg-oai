{
 "cells": [
  {
   "cell_type": "code",
   "execution_count": 1,
   "metadata": {},
   "outputs": [
    {
     "name": "stdout",
     "output_type": "stream",
     "text": [
      "barch.xml\n",
      "254%7Cefg%7C%2A%20AND%20%28set%20%3D%20%22barch%22%29%20%7C100%7C62ed2a6f7222126baaa9fb07%7Cfalse%7Cbarch.xml\n",
      "254%7Cefg%7C%2A%20AND%20%28set%20%3D%20%22barch%22%29%20%7C200%7C62ed2a707222126baaa9fb6b%7Cfalse%7Cbarch.xml\n",
      "all done.\n"
     ]
    }
   ],
   "source": [
    "# pull data from EFG OAI endpoint.\n",
    "\n",
    "import datetime\n",
    "import pathlib\n",
    "import pydash\n",
    "import requests\n",
    "import time\n",
    "import urllib.parse\n",
    "import xmltodict\n",
    "\n",
    "def requester(url, retries, delay):\n",
    "\n",
    "    ''' Request web resource with timed retries in case of error. '''\n",
    "\n",
    "    for n in range(retries):\n",
    "        time.sleep(delay)\n",
    "        try:\n",
    "            return requests.get(url)\n",
    "        except:\n",
    "            pass\n",
    "\n",
    "    raise Exception(f'Could not connect to url {url}')\n",
    "\n",
    "def resumption_token(data):\n",
    "\n",
    "    ''' Extract resumption token. '''\n",
    "\n",
    "    data = xmltodict.parse(data)\n",
    "    token = pydash.get(data, 'oai:OAI-PMH.oai:ListRecords.oai:resumptionToken.#text')\n",
    "\n",
    "    return token\n",
    "\n",
    "def xml_save(xml, flavour):\n",
    "\n",
    "    ''' Save XML. '''\n",
    "\n",
    "    path = pathlib.Path.cwd() / 'data'\n",
    "    path = path / flavour['set'] / flavour['timestamp']\n",
    "    path = path / f\"{flavour['token']}.xml\"\n",
    "    path.parents[0].mkdir(parents=True, exist_ok=True)\n",
    "    with open(path, \"w\") as export:\n",
    "        export.write(xml)\n",
    "\n",
    "    print(path.name)\n",
    "\n",
    "retry = 4  # global retry.\n",
    "delay = 10  # global delay.\n",
    "\n",
    "r = requester(\n",
    "    'https://dnet-prod.efg.d4science.org/efg/mvc/oai/oai.do?verb=ListSets',\n",
    "    retry, delay)\n",
    "set_list = xmltodict.parse(r.text)\n",
    "set_list = pydash.get(set_list, 'OAI-PMH.ListSets.set')\n",
    "set_list = [x['setSpec'] for x in set_list]\n",
    "\n",
    "# test sample\n",
    "set_list = [x for x in set_list if x in ['barch']]\n",
    "\n",
    "for x in set_list:\n",
    "\n",
    "    timestamp = datetime.datetime.now().strftime('%y%m%d%H%M%S')\n",
    "    config = {'set': x, 'token': x, 'timestamp': timestamp}\n",
    "    url = f'https://dnet-prod.efg.d4science.org/efg/mvc/oai/oai.do?verb=ListRecords&metadataPrefix=efg&set={x}'\n",
    "    payload = requester(url, retry, delay).text\n",
    "\n",
    "    xml_save(payload, config)\n",
    "    token = resumption_token(payload)\n",
    "    if token:\n",
    "        while 1:\n",
    "            config['token'] = urllib.parse.quote(token)\n",
    "            r = requester(\n",
    "                f'https://dnet-prod.efg.d4science.org/efg/mvc/oai/oai.do?verb=ListRecords&resumptionToken={token}', retry, delay)\n",
    "            payload = r.text\n",
    "            xml_save(payload, config)\n",
    "            token = resumption_token(payload)\n",
    "            if not token:\n",
    "                break\n",
    "\n",
    "print('all done.')"
   ]
  }
 ],
 "metadata": {
  "interpreter": {
   "hash": "916dbcbb3f70747c44a77c7bcd40155683ae19c65e1c03b4aa3499c5328201f1"
  },
  "kernelspec": {
   "display_name": "Python 3.10.4 64-bit",
   "language": "python",
   "name": "python3"
  },
  "language_info": {
   "codemirror_mode": {
    "name": "ipython",
    "version": 3
   },
   "file_extension": ".py",
   "mimetype": "text/x-python",
   "name": "python",
   "nbconvert_exporter": "python",
   "pygments_lexer": "ipython3",
   "version": "3.10.4"
  },
  "orig_nbformat": 4
 },
 "nbformat": 4,
 "nbformat_minor": 2
}
